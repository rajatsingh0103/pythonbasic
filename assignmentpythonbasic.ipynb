{
  "nbformat": 4,
  "nbformat_minor": 0,
  "metadata": {
    "colab": {
      "provenance": []
    },
    "kernelspec": {
      "name": "python3",
      "display_name": "Python 3"
    },
    "language_info": {
      "name": "python"
    }
  },
  "cells": [
    {
      "cell_type": "code",
      "execution_count": null,
      "metadata": {
        "id": "nEBiGkjNOAeQ"
      },
      "outputs": [],
      "source": []
    },
    {
      "cell_type": "markdown",
      "source": [
        "1.What is python and why is it popular?\n",
        "Python is a high-level, general-purpose programming language\n",
        "\n",
        "It is known for its readability and simplicity.\n",
        "\n",
        "2.What is an interpreter in Python ?**\n",
        "\n",
        "an interpreter executes the code line by line. You don't need to compile the code before running it\n",
        "\n",
        "3.What are pre-defined keywords in Python?**\n",
        "Predefined keywords in Python, also known as reserved words, are a set of special words that have specific meanings and purposes. You can't use them for anything else, like as variable names, function names, or any other identifiers.\n",
        "\n",
        "4.Can keywords be used as variable names?**\n",
        "No. Keywords cannot be used as variable names.\n",
        "\n",
        "5.What is mutability in Python? **bold text**\n",
        "In Python, mutability refers to whether an object can be changed after it's created\n",
        "\n",
        "6..Why are lists mutable, but tuples are immutable ?\n",
        "The elements of list can be changed after being created, whereas the elements of a tuple can't be changed\n",
        "\n",
        "my_list = [1, 2, 3] my_list[0] = 5\n",
        "\n",
        "my_list = [1, 2, 3] my_list[0] = 5 # The list is modified to [5, 2, 3]\n",
        "\n",
        "my_tuple = (1, 2, 3) # my_tuple[0] = 5 # This will raise a TypeError\n",
        "\n",
        "7.What is the difference between “==” and “is” operators in Python?**\n",
        "\n",
        "\n",
        "is operator: Compares the memory addresses (or identity) of two objects. You can check the memory address of an object using the id() function.\n",
        "\n",
        "== operator: Compares the values of two objects. It checks whether the objects have the same content\n",
        "\n",
        "8.What are logical operators in Python** ?\n",
        "Logical operators in Python are used to combine conditional statements.\n",
        "\n",
        "9.What is type casting in Python ?\n",
        "Type casting, or type conversion, is the process of changing the data type of an object from one to another\n",
        "\n",
        "10.What is the difference between implicit and explicit type casting?\n",
        "\n",
        "Implicit type casting-This happens automatically by the Python interpreter to prevent data loss. For instance, when you add an integer and a float, Python will automatically convert the integer to a float before performing the calculation.\n",
        "\n",
        "Explicit type casting-This is when you, the programmer, manually convert a data type using built-in functions. You explicitly tell Python to change the type, for example, converting a string '10' into an integer 10.\n",
        "\n",
        "11.What is the purpose of conditional statements in Python ?\n",
        "The purpose of conditional statements in Python is to execute different blocks of code based on whether a specified condition is True or False. They allow a program to make decisions, creating logic that controls the flow of execution.\n",
        "\n",
        "\n",
        "12.How does the elif statement work?\n",
        "\n",
        "The elif keyword in Python is short for \"else if\". It's a conditional statement used to check for a new condition when the preceding if or elif statements evaluate to False. You can have multiple elif blocks in a single conditional structure.\n",
        "\n",
        "13.What is the difference between for and while loops ?\n",
        "A for loop is used for iterating a predetermined number of times, typically over the items of a sequence. A while loop continues to execute as long as a specified condition remains True.\n",
        "\n",
        "\n",
        "14.Describe a scenario where a while loop is more suitable than a for loop.?\n",
        "\n",
        "problem statement:A landscaping company is installing grass rolls at a stadium. Use a while loop to keep counting how many rolls are installed until a total of 50 is reached. Each iteration should print \"Installed grass roll number: <count>\".\n",
        "\n",
        "i=o\n",
        "while i<50\n",
        "i=i+1\n",
        "print(i)\n",
        "\n",
        "\n",
        "\n",
        "\n"
      ],
      "metadata": {
        "id": "mnf4QWlwOD3A"
      }
    },
    {
      "cell_type": "code",
      "source": [
        "#Write a Python program to print \"Hello, World!\n",
        "\n",
        "print(\"Hello, World!\")\n"
      ],
      "metadata": {
        "id": "wktavOig59CO"
      },
      "execution_count": null,
      "outputs": []
    },
    {
      "cell_type": "code",
      "source": [
        "#Write a Python program that displays your name and age\n",
        "name=\"rajat\"\n",
        "age=18\n",
        "print(name)\n",
        "print(age)\n"
      ],
      "metadata": {
        "id": "qA9eocEP5-84"
      },
      "execution_count": null,
      "outputs": []
    },
    {
      "cell_type": "code",
      "source": [
        "#write a program to print all the pre defined keywords\n",
        "\n",
        "import keyword\n",
        "\n",
        "print(keyword.kwlist)\n"
      ],
      "metadata": {
        "id": "pJXriUoH6C4v"
      },
      "execution_count": null,
      "outputs": []
    },
    {
      "cell_type": "code",
      "source": [
        "#write a program to check if a given keyword is a pre defined keyword\n",
        "import keyword\n",
        "\n",
        "word_to_check = input(\"Enter a word to check: \")\n",
        "if word_to_check in keyword.kwlist:\n",
        "  print(\"the given word\", word_to_check, \"is a\", \"python keyword\")\n",
        "else:\n",
        "  print(\"the given word\", word_to_check, \"is not a\", \"python keyword\")"
      ],
      "metadata": {
        "id": "9JeWxw55bbya"
      },
      "execution_count": null,
      "outputs": []
    },
    {
      "cell_type": "code",
      "source": [
        "#Write a function to demonstrate the behavior of mutable and immutable arguments.\n",
        "\n",
        "def demonstrate_mutable_immutable(mutable_list, immutable_int):\n",
        "  \"\"\"Demonstrates the behavior of mutable and immutable arguments.\"\"\"\n",
        "  print(f\"Inside function - Before modification:\")\n",
        "  print(f\"  mutable_list: {mutable_list}\")\n",
        "  print(f\"  immutable_int: {immutable_int}\")\n",
        "\n",
        "  # Modify the mutable argument\n",
        "  mutable_list.append(4)\n",
        "  print(f\"  mutable_list after append: {mutable_list}\")\n",
        "\n",
        "  # Attempt to modify the immutable argument by reassignment\n",
        "  immutable_int = immutable_int + 1\n",
        "  print(f\"  immutable_int after reassignment: {immutable_int}\")\n",
        "\n",
        "# --- Demonstration ---\n",
        "\n",
        "# Mutable argument (a list)\n",
        "my_list = [1, 2, 3]\n",
        "print(f\"Outside function - Before function call:\")\n",
        "print(f\"  my_list: {my_list}\")\n",
        "\n",
        "# Immutable argument (an integer)\n",
        "my_int = 10\n",
        "print(f\"  my_int: {my_int}\")\n",
        "\n",
        "print(\"\\nCalling the function...\")\n",
        "demonstrate_mutable_immutable(my_list, my_int)\n",
        "print(\"Function call finished.\")\n",
        "\n",
        "print(f\"\\nOutside function - After function call:\")\n",
        "print(f\"  my_list: {my_list}\") # my_list is modified\n",
        "print(f\"  my_int: {my_int}\")   # my_int remains unchanged"
      ],
      "metadata": {
        "id": "nFu2Hq1X8dBf"
      },
      "execution_count": null,
      "outputs": []
    },
    {
      "cell_type": "code",
      "source": [
        "#Write a program that performs basic arithmetic operations on two user-input numbers\n",
        "# Get input from the user\n",
        "try:\n",
        "  num1 = float(input(\"Enter the first number: \"))\n",
        "  num2 = float(input(\"Enter the second number: \"))\n",
        "\n",
        "  # Perform basic arithmetic operations\n",
        "  sum_result = num1 + num2\n",
        "  difference_result = num1 - num2\n",
        "  product_result = num1 * num2\n",
        "\n",
        "  # Handle division by zero\n",
        "  if num2 != 0:\n",
        "    division_result = num1 / num2\n",
        "    floor_division_result = num1 // num2\n",
        "    modulo_result = num1 % num2\n",
        "  else:\n",
        "    division_result = \"Cannot divide by zero\"\n",
        "    floor_division_result = \"Cannot divide by zero\"\n",
        "    modulo_result = \"Cannot perform modulo with zero\"\n",
        "\n",
        "  # Print the results\n",
        "  print(f\"\\nResults:\")\n",
        "  print(f\"{num1} + {num2} = {sum_result}\")\n",
        "  print(f\"{num1} - {num2} = {difference_result}\")\n",
        "  print(f\"{num1} * {num2} = {product_result}\")\n",
        "  print(f\"{num1} / {num2} = {division_result}\")\n",
        "  print(f\"{num1} // {num2} = {floor_division_result}\")\n",
        "  print(f\"{num1} % {num2} = {modulo_result}\")\n",
        "\n",
        "except ValueError:\n",
        "  print(\"Invalid input. Please enter valid numbers.\")"
      ],
      "metadata": {
        "id": "GUnVGo4G9gYW"
      },
      "execution_count": null,
      "outputs": []
    },
    {
      "cell_type": "code",
      "source": [],
      "metadata": {
        "id": "oQHlvHvK8i4M"
      },
      "execution_count": null,
      "outputs": []
    },
    {
      "cell_type": "code",
      "source": [
        "#Write a program to demonstrate the use of logical operators.\n",
        "x=3\n",
        "y=2\n",
        "print(x>2 and y>5)\n"
      ],
      "metadata": {
        "id": "dIxsA0Ff9hy7"
      },
      "execution_count": null,
      "outputs": []
    },
    {
      "cell_type": "code",
      "source": [
        "#Create a list and tuple in Python, and demonstrate how attempting to change an element works differently for each.\n",
        "\n",
        "\n",
        "L=[1, 2, 3]\n",
        "L[0]=4\n",
        "print(L)\n",
        "T=(1, 2, 3)\n",
        "T[0]=3\n",
        "print(T)\n",
        "\n",
        "Error printing when elements of tuple are being changed\n"
      ],
      "metadata": {
        "id": "fRaEfrgn9lWy"
      },
      "execution_count": null,
      "outputs": []
    },
    {
      "cell_type": "code",
      "source": [
        "#Write a Python program to convert user input from string to integer, float, and boolean types.\n",
        "\n",
        "# Convert string to integer\n",
        "int_str = input(\"Enter an integer string: \")\n",
        "try:\n",
        "    int_val = int(int_str)\n",
        "    print(f\"Converted to integer: {int_val}\")\n",
        "except ValueError:\n",
        "    print(f\"Could not convert '{int_str}' to an integer.\")\n",
        "\n",
        "# Convert string to float\n",
        "float_str = input(\"Enter a float string: \")\n",
        "try:\n",
        "    float_val = float(float_str)\n",
        "    print(f\"Converted to float: {float_val}\")\n",
        "except ValueError:\n",
        "    print(f\"Could not convert '{float_str}' to a float.\")\n",
        "\n",
        "# Convert string to boolean (case-insensitive check for 'True' or 'False')\n",
        "bool_str = input(\"Enter a boolean string (True/False): \").lower()\n",
        "if bool_str == 'true':\n",
        "    bool_val = True\n",
        "    print(f\"Converted to boolean: {bool_val}\")\n",
        "elif bool_str == 'false':\n",
        "    bool_val = False\n",
        "    print(f\"Converted to boolean: {bool_val}\")\n",
        "else:\n",
        "    print(f\"Could not convert '{bool_str}' to a boolean. Please enter 'True' or 'False'.\")\n",
        "\n",
        "\n",
        "\n"
      ],
      "metadata": {
        "id": "a8I6BQJj9-AP"
      },
      "execution_count": null,
      "outputs": []
    },
    {
      "cell_type": "code",
      "source": [
        "# Write code to demonstrate type casting with list elements.\n",
        "\n",
        "my_list = [\"1\", 2, \"3.14\", True]\n",
        "print(\"Original list:\", my_list)\n",
        "print(\"Original list element types:\", [type(item) for item in my_list])\n",
        "\n",
        "# Type casting list elements\n",
        "# Convert the first element to an integer\n",
        "int_element = int(my_list[0])\n",
        "print(\"\\nCasting first element to integer:\", int_element)\n",
        "print(\"Type after casting:\", type(int_element))\n",
        "\n",
        "# Convert the second element to a string\n",
        "str_element = str(my_list[1])\n",
        "print(\"\\nCasting second element to string:\", str_element)\n",
        "print(\"Type after casting:\", type(str_element))\n",
        "\n",
        "# Convert the third element to a float\n",
        "float_element = float(my_list[2])\n",
        "print(\"\\nCasting third element to float:\", float_element)\n",
        "print(\"Type after casting:\", type(float_element))\n",
        "\n",
        "# Convert the fourth element to an integer (True becomes 1)\n",
        "int_from_bool = int(my_list[3])\n",
        "print(\"\\nCasting fourth element (boolean) to integer:\", int_from_bool)\n",
        "print(\"Type after casting:\", type(int_from_bool))\n",
        "\n",
        "# Convert the fourth element to a string\n",
        "str_from_bool = str(my_list[3])\n",
        "print(\"\\nCasting fourth element (boolean) to string:\", str_from_bool)\n",
        "print(\"Type after casting:\", type(str_from_bool))\n",
        "\n"
      ],
      "metadata": {
        "id": "9Ek2R1K09_EL"
      },
      "execution_count": null,
      "outputs": []
    },
    {
      "cell_type": "code",
      "source": [
        "#Write a program that checks if a number is positive, negative, or zero.\n",
        "\n",
        "num = float(input(\"Enter a number: \"))\n",
        "\n",
        "if num > 0:\n",
        "  print(\"The number is positive.\")\n",
        "elif num < 0:\n",
        "  print(\"The number is negative.\")\n",
        "else:\n",
        "  print(\"The number is zero.\")\n"
      ],
      "metadata": {
        "id": "9mn4ehOI-FPa"
      },
      "execution_count": null,
      "outputs": []
    },
    {
      "cell_type": "code",
      "source": [
        "\n",
        " #Write a for loop to print numbers from 1 to 10.\n",
        "x=0\n",
        "while x<10:\n",
        "  x=x+1\n",
        "  print(x)\n"
      ],
      "metadata": {
        "id": "e5WzNpZe-JJJ"
      },
      "execution_count": null,
      "outputs": []
    },
    {
      "cell_type": "code",
      "source": [
        "# Write a Python program to find the sum of all even numbers between 1 and 50.\n",
        "sum_of_evens = 0\n",
        "for i in range(1, 51):\n",
        "  if i % 2 == 0:\n",
        "    sum_of_evens += i\n",
        "print(\"The sum of even numbers from 1 to 50 is:\", sum_of_evens)"
      ],
      "metadata": {
        "id": "WhxGfByV-uw0"
      },
      "execution_count": null,
      "outputs": []
    },
    {
      "cell_type": "code",
      "source": [
        "#Write a program to reverse a string using a while loop.\n",
        "def reverse_string_while(input_string):\n",
        "  \"\"\"Reverses a string using a while loop.\"\"\"\n",
        "  reversed_string = \"\"\n",
        "  index = len(input_string) - 1\n",
        "  while index >= 0:\n",
        "    reversed_string += input_string[index]\n",
        "    index -= 1\n",
        "  return reversed_string\n",
        "\n",
        "# Get input from the user\n",
        "my_string = input(\"Enter a string to reverse: \")\n",
        "\n",
        "# Reverse the string and print the result\n",
        "reversed_result = reverse_string_while(my_string)\n",
        "print(f\"The reversed string is: {reversed_result}\")"
      ],
      "metadata": {
        "id": "lCnNkem7fMV4"
      },
      "execution_count": null,
      "outputs": []
    },
    {
      "cell_type": "code",
      "source": [
        "#Write a Python program to calculate the factorial of a number provided by the user using a while loop.\n",
        "def calculate_factorial_while(number):\n",
        "  \"\"\"Calculates the factorial of a non-negative integer using a while loop.\"\"\"\n",
        "  if number < 0:\n",
        "    return \"Factorial is not defined for negative numbers\"\n",
        "  elif number == 0:\n",
        "    return 1\n",
        "  else:\n",
        "    factorial = 1\n",
        "    i = 1\n",
        "    while i <= number:\n",
        "      factorial *= i\n",
        "      i += 1\n",
        "    return factorial\n",
        "\n",
        "# Get input from the user\n",
        "try:\n",
        "  num = int(input(\"Enter a non-negative integer to calculate its factorial: \"))\n",
        "  result = calculate_factorial_while(num)\n",
        "  print(f\"The factorial of {num} is: {result}\")\n",
        "except ValueError:\n",
        "  print(\"Invalid input. Please enter a non-negative integer.\")"
      ],
      "metadata": {
        "id": "LhtSE3fkfP6v"
      },
      "execution_count": null,
      "outputs": []
    }
  ]
}