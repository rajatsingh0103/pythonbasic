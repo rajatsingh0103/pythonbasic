{
  "nbformat": 4,
  "nbformat_minor": 0,
  "metadata": {
    "colab": {
      "provenance": []
    },
    "kernelspec": {
      "name": "python3",
      "display_name": "Python 3"
    },
    "language_info": {
      "name": "python"
    }
  },
  "cells": [
    {
      "cell_type": "markdown",
      "source": [
        "1. What is the difference between a function and a method in Python?\n",
        "A function in Python is a block of reusable code that performs a specific task. It can be called by its name and can accept arguments and return values. A method, on the other hand, is a function that is associated with an object or class. It is called on an instance of that object or class and can access and modify the object's data. In simpler terms, methods are functions that belong to objects.\n",
        "2.Explain the concept of function arguments and parameters in Python.\n",
        "In Python, parameters are the names listed in the function definition. Arguments are the actual values passed to the function when it is called. Parameters are like placeholders, while arguments are the concrete data you give to the function to work with.\n",
        "3.What are the different ways to define and call a function in Python?\n",
        "In Python, you can define and call functions in several ways. The most common method uses the def keyword. Functions are blocks of reusable code that perform a specific task.\n",
        "\n",
        "Defining a Function\n",
        "Standard Definition\n",
        "The most common way to define a function is using the def keyword.\n",
        "\n",
        "Python\n",
        "\n",
        "def greet(name):\n",
        "    \"\"\"This function greets the person passed in as a parameter.\"\"\"\n",
        "    print(f\"Hello, {name}!\")\n",
        "\n",
        "def: The keyword that signals the start of a function definition.\n",
        "\n",
        "greet: The name of the function.\n",
        "\n",
        "(name): The parameter(s) the function accepts, enclosed in parentheses.\n",
        "\n",
        ":: The colon marks the end of the function signature and the beginning of the function body.\n",
        "\n",
        "\"\"\"...\"\"\": A docstring, which is a brief description of what the function does. It's good practice to include one.\n",
        "\n",
        "Lambda Functions\n",
        "Lambda functions are small, anonymous functions defined with the lambda keyword. They can only have one expression and are often used for short, simple operations.\n",
        "\n",
        "Python\n",
        "\n",
        "add_two_numbers = lambda x, y: x + y\n",
        "lambda: The keyword for defining a lambda function.\n",
        "\n",
        "x, y: The arguments.\n",
        "\n",
        "x + y: The single expression that the function returns.\n",
        "\n",
        "Calling a Function\n",
        "Positional Arguments\n",
        "This is the most straightforward way to call a function. The arguments are matched to the parameters in the order they are given.\n",
        "\n",
        "Python\n",
        "\n",
        "greet(\"Alice\")\n",
        "# Output: Hello, Alice!\n",
        "\n",
        "print(add_two_numbers(5, 3))\n",
        "# Output: 8\n",
        "Keyword Arguments\n",
        "You can specify the arguments by their parameter names. This is useful for clarity and allows you to change the order of arguments.\n",
        "\n",
        "Python\n",
        "\n",
        "def describe_pet(animal, name):\n",
        "    print(f\"I have a {animal} named {name}.\")\n",
        "\n",
        "describe_pet(animal=\"dog\", name=\"Buddy\")\n",
        "# Output: I have a dog named Buddy.\n",
        "\n",
        "# The order doesn't matter\n",
        "describe_pet(name=\"Lucy\", animal=\"cat\")\n",
        "# Output: I have a cat named Lucy.\n",
        "Default Arguments\n",
        "You can set a default value for a parameter. If no argument is provided for that parameter during the function call, the default value is used.\n",
        "\n",
        "Python\n",
        "\n",
        "def greet_with_default(name=\"Guest\"):\n",
        "    print(f\"Hello, {name}!\")\n",
        "\n",
        "greet_with_default(\"Bob\")\n",
        "# Output: Hello, Bob!\n",
        "\n",
        "greet_with_default()\n",
        "# Output: Hello, Guest!\n",
        "Arbitrary Arguments\n",
        "Sometimes you don't know how many arguments a function will receive. You can use arbitrary arguments, also known as *args and **kwargs.\n",
        "\n",
        "*args (non-keyword arguments): The asterisk (*) before a parameter name in the function definition indicates that the function will accept a tuple of an arbitrary number of positional arguments.\n",
        "\n",
        "Python\n",
        "\n",
        "def sum_all(*numbers):\n",
        "    return sum(numbers)\n",
        "\n",
        "print(sum_all(1, 2, 3, 4))\n",
        "# Output: 10\n",
        "**kwargs (keyword arguments): The double asterisk (**) indicates that the function will accept a dictionary of an arbitrary number of keyword arguments.\n",
        "\n",
        "Python\n",
        "\n",
        "def describe_details(**details):\n",
        "    for key, value in details.items():\n",
        "        print(f\"{key}: {value}\")\n",
        "\n",
        "describe_details(name=\"John\", age=30, city=\"New York\")\n",
        "# Output:\n",
        "# name: John\n",
        "# age: 30\n",
        "# city: New York\n",
        "\n",
        "4.What is the purpose of the `return` statement in a Python function?\n",
        "\n",
        "The return statement in a Python function serves two primary purposes:\n",
        "\n",
        "Exiting the function: It immediately stops the function's execution. Any code written after the return statement in that function will not be executed.\n",
        "\n",
        "Returning a value: It sends a value, or a set of values, back to the caller of the function. This allows the function's result to be used in other parts of the program, such as being assigned to a variable, used in an expression, or passed as an argument to another function.\n",
        "\n",
        "How return Works\n",
        "When you call a function, it performs a task. The return statement allows that function to provide the outcome of its task to the rest of your program. If a function doesn't have a return statement, it implicitly returns None.\n",
        "\n",
        "Here is a simple example:\n",
        "\n",
        "Python\n",
        "\n",
        "def add_numbers(x, y):\n",
        "    result = x + y\n",
        "    return result\n",
        "\n",
        "# Calling the function and storing the returned value\n",
        "sum_of_numbers = add_numbers(5, 10)\n",
        "print(sum_of_numbers)\n",
        "# Output: 15\n",
        "In this case, the add_numbers function calculates the sum and returns the result. The value 15 is then assigned to the variable sum_of_numbers.\n",
        "\n",
        "5.What are iterators in Python and how do they differ from iterables?\n",
        "\n",
        "In Python, an iterable is a data structure that can be looped over, while an iterator is an object that keeps track of the current position during that loop.\n",
        "\n",
        "Iterables\n",
        "An iterable is any object that can return an iterator. Think of an iterable as a container that holds a series of items, like a list, tuple, or string. It has a special __iter__() method that, when called, creates and returns an iterator. You can iterate over an iterable using a for loop, which is the most common way to use them.\n",
        "\n",
        "\n",
        "\n",
        "Python\n",
        "\n",
        "my_list = [1, 2, 3]  # This list is an iterable\n",
        "for item in my_list:\n",
        "    print(item)\n",
        "The for loop automatically gets an iterator from the list and uses it to go through each item.\n",
        "\n",
        "Iterators\n",
        "An iterator is the object that actually does the iterating. It maintains the state of the iteration. It has two essential methods:\n",
        "\n",
        "\n",
        "__iter__(): Returns the iterator object itself.\n",
        "\n",
        "__next__(): Returns the next item from the iterable. It raises a StopIteration error when there are no more items left.\n",
        "\n",
        "You can manually get an iterator from an iterable using the built-in iter() function and get the next item using next().\n",
        "\n",
        "Python\n",
        "\n",
        "my_list = [1, 2, 3]\n",
        "my_iterator = iter(my_list) # Get an iterator from the list\n",
        "\n",
        "print(next(my_iterator))  # Prints 1\n",
        "print(next(my_iterator))  # Prints 2\n",
        "print(next(my_iterator))  # Prints 3\n",
        "# next(my_iterator) now raises a StopIteration error\n",
        "\n",
        "6.Explain the concept of generators in Python and how they are defined.\n",
        "Generators in Python are a special kind of function or expression that produce a sequence of results one at a time, instead of building a whole list and returning it all at once. They're iterators that are lazy, meaning they generate values on-demand. This makes them highly memory-efficient, especially when dealing with large datasets, since they don't store the entire sequence in memory. 🧠\n",
        "\n",
        "Defining Generators\n",
        "There are two primary ways to define a generator in Python: generator functions and generator expressions.\n",
        "\n",
        "Generator Functions\n",
        "A generator function is a function that contains at least one yield statement. When this function is called, it doesn't execute the code and return a value immediately. Instead, it returns a generator object. The code inside the function only runs when you ask for the next item from this object (e.g., using a for loop, next() function, or by unpacking).\n",
        "\n",
        "The yield keyword is what makes a function a generator. It pauses the function's execution and saves its local state. When next() is called on the generator object again, the function resumes right where it left off, and its state is restored.\n",
        "\n",
        "Here's an example:\n",
        "\n",
        "Python\n",
        "\n",
        "def simple_generator():\n",
        "    print(\"Starting generator...\")\n",
        "    yield 1\n",
        "    print(\"Resuming...\")\n",
        "    yield 2\n",
        "    print(\"One more time...\")\n",
        "    yield 3\n",
        "\n",
        "# Create the generator object\n",
        "gen = simple_generator()\n",
        "\n",
        "# Iterate through the generator\n",
        "for value in gen:\n",
        "    print(value)\n",
        "The output of this code would be:\n",
        "\n",
        "Starting generator...\n",
        "1\n",
        "Resuming...\n",
        "2\n",
        "One more time...\n",
        "3\n",
        "Notice how the print statements are executed between the yield calls, showing the pausing and resuming behavior.\n",
        "\n",
        "Generator Expressions\n",
        "A generator expression is a concise way to create a generator without defining a full function. They are syntactically similar to list comprehensions but use parentheses () instead of square brackets []. They are more memory-efficient than their list comprehension counterparts because they don't build the entire list in memory at once.\n",
        "\n",
        "Consider this example:\n",
        "\n",
        "Python\n",
        "\n",
        "# List comprehension (creates a list in memory)\n",
        "my_list = [x**2 for x in range(1000)]\n",
        "\n",
        "# Generator expression (creates a generator object)\n",
        "my_gen = (x**2 for x in range(1000))\n",
        "The my_list variable will hold all 1000 squared values in memory, whereas my_gen will only generate them one at a time as they are requested. This is a great choice when you need a simple generator and don't require the complex logic of a full generator function\n",
        "\n",
        "\n",
        "7. What are the advantages of using generators over regular functions?\n",
        "Using generators offers several key advantages over regular functions, primarily related to memory efficiency and performance. Unlike regular functions that compute and return a single value or an entire list at once, generators produce values one at a time, on demand.\n",
        "\n",
        "\n",
        "Memory Efficiency\n",
        "This is the most significant advantage. Generators are lazy iterators, meaning they don't store the entire sequence in memory. A regular function returning a large list, for example, would have to build that entire list in memory before returning it. A generator, by contrast, only holds the state of the current item, yielding values one by one. This is crucial when working with very large datasets or infinite sequences, as it prevents your program from running out of memory. 🧠\n",
        "\n",
        "\n",
        "\n",
        "\n",
        "Performance\n",
        "Because generators don't have to build an entire list or collection in memory, they can start producing results much faster. The time to first item is almost instantaneous, which is beneficial for data processing pipelines where you want to start working on the first few items without waiting for the entire set to be generated. This also reduces the initial processing overhead, as there's no need to allocate memory for the entire data structure. ⚡\n",
        "\n",
        "Simplicity and Readability\n",
        "For creating iterators, generator functions are often simpler and cleaner to write than implementing a custom class with __iter__ and __next__ methods. The yield keyword handles the state-saving logic automatically, making the code more concise and easier to read. For simple, single-line iterations, generator expressions offer an even more compact syntax\n",
        "8.What is a lambda function in Python and when is it typically used?\n",
        "A lambda function is a small, anonymous function defined with the lambda keyword. It can take any number of arguments but is restricted to a single expression, which is also its return value. They're called \"anonymous\" because they don't have a name like a regular function defined with def.\n",
        "\n",
        "Key Characteristics\n",
        "Single Expression: A lambda function's body is a single expression, not a block of statements. This limits its complexity.\n",
        "\n",
        "No return Statement: The expression's result is implicitly returned. You don't use the return keyword.\n",
        "\n",
        "Concise: They are a compact way to create simple function objects.\n",
        "\n",
        "Typical Use Cases\n",
        "Lambda functions are most often used as arguments to higher-order functions, which are functions that take other functions as input. This is where their small, throwaway nature makes them perfect.\n",
        "\n",
        "With map(), filter(), and reduce(): These built-in functions apply a function to every item in an iterable. A lambda provides a quick, inline way to define the logic without needing a separate def function.\n",
        "\n",
        "map(lambda x: x * 2, [1, 2, 3]) doubles each number.\n",
        "\n",
        "filter(lambda x: x > 5, [3, 6, 8]) keeps numbers greater than 5.\n",
        "\n",
        "Sorting with key: The sorted() function and the .sort() method of lists have a key argument. This argument accepts a function that is used to extract a comparison key from each element in the list. Lambda functions are the perfect, lightweight tool for this.\n",
        "\n",
        "Python\n",
        "\n",
        "# Sort a list of tuples based on the second element\n",
        "data = [('apple', 3), ('banana', 1), ('cherry', 2)]\n",
        "sorted_data = sorted(data, key=lambda item: item[1])\n",
        "# sorted_data will be [('banana', 1), ('cherry', 2), ('apple', 3)]\n",
        "In essence, you use a lambda function whenever you need a small, simple function for a short period of time, and defining a full-fledged def function would be overkill.\n",
        "9.Explain the purpose and usage of the `map()` function in Python.\n",
        "The map() function in Python applies a given function to every item of an iterable (like a list, tuple, etc.) and returns a map object, which is a special type of iterator. The purpose of map() is to perform a transformation on a collection of items efficiently, without explicitly writing a loop. 🔄\n",
        "\n",
        "How It Works\n",
        "The syntax of map() is map(function, iterable, ...).\n",
        "\n",
        "function: The function to be applied to each item. It can be a built-in function, a custom function, or a lambda function.\n",
        "\n",
        "iterable: The sequence of items that the function will be applied to. You can pass multiple iterables if the function accepts multiple arguments.\n",
        "\n",
        "map() doesn't execute the function immediately. Instead, it creates an iterator that yields results on-demand, which makes it memory-efficient, especially for large datasets. You can convert the map object to a list or another iterable to see the results.\n",
        "\n",
        "10.What is the difference between `map()`, `reduce()`, and `filter()` functions in Python?\n",
        "\n",
        "The map(), reduce(), and filter() functions in Python are all part of the functional programming paradigm, but they serve different purposes. The key difference lies in what they do to an iterable (like a list) and what they return.\n",
        "\n",
        "1. map(): Transformation 🔄\n",
        "The map() function is used to transform an iterable by applying a function to every item in it. It returns a new iterable (a map object) of the same length, where each element is the result of the function applied to the original element. Its purpose is to perform a one-to-one mapping from one sequence to another.\n",
        "\n",
        "Syntax: map(function, iterable)\n",
        "\n",
        "Example: Squaring every number in a list.\n",
        "\n",
        "Python\n",
        "\n",
        "numbers = [1, 2, 3]\n",
        "squared = list(map(lambda x: x**2, numbers))\n",
        "# Result: [1, 4, 9]\n",
        "2. filter(): Selection 🧹\n",
        "The filter() function is used to select a subset of an iterable based on a condition. It applies a function to every item and returns a new iterable (a filter object) containing only the items for which the function returns True. Its purpose is to filter out unwanted elements.\n",
        "\n",
        "Syntax: filter(function, iterable)\n",
        "\n",
        "Example: Keeping only the even numbers from a list.\n",
        "\n",
        "Python\n",
        "\n",
        "numbers = [1, 2, 3, 4, 5]\n",
        "evens = list(filter(lambda x: x % 2 == 0, numbers))\n",
        "# Result: [2, 4]\n",
        "3. reduce(): Aggregation 📦\n",
        "The reduce() function, found in the functools module, is used to aggregate or \"reduce\" an iterable down to a single value. It applies a function cumulatively to the items of a sequence, from left to right. The function must take two arguments, a \"reducer\" and the \"current item,\" and return a single value. This result then becomes the new reducer for the next item.\n",
        "\n",
        "Syntax: from functools import reduce; reduce(function, iterable)\n",
        "\n",
        "Example: Summing all numbers in a list.\n",
        "\n",
        "Python\n",
        "\n",
        "from functools import reduce\n",
        "numbers = [1, 2, 3, 4]\n",
        "total = reduce(lambda x, y: x + y, numbers)\n",
        "# Result: 10\n"
      ],
      "metadata": {
        "id": "pJnPUdqUSKpf"
      }
    },
    {
      "cell_type": "code",
      "source": [
        " #1Write a Python function that takes a list of numbers as input and returns the sum of all even numbers in\n",
        "the list"
      ],
      "metadata": {
        "id": "sNkzYkXvQI7Q"
      },
      "execution_count": null,
      "outputs": []
    },
    {
      "cell_type": "code",
      "metadata": {
        "colab": {
          "base_uri": "https://localhost:8080/"
        },
        "id": "2e647edc",
        "outputId": "7bf34769-ea4a-44c3-f8d2-bd3cbd3fbcfb"
      },
      "source": [
        "def sum_of_even_numbers(numbers_list):\n",
        "  \"\"\"\n",
        "  Calculates the sum of all even numbers in a list.\n",
        "\n",
        "  Args:\n",
        "    numbers_list: A list of numbers.\n",
        "\n",
        "  Returns:\n",
        "    The sum of all even numbers in the list.\n",
        "  \"\"\"\n",
        "  even_sum = 0\n",
        "  for number in numbers_list:\n",
        "    if number % 2 == 0:\n",
        "      even_sum += number\n",
        "  return even_sum\n",
        "\n",
        "# Example usage:\n",
        "my_list = [1, 2, 3, 4, 5, 6, 7, 8, 9, 10]\n",
        "result = sum_of_even_numbers(my_list)\n",
        "print(f\"The sum of even numbers in the list is: {result}\")"
      ],
      "execution_count": null,
      "outputs": [
        {
          "output_type": "stream",
          "name": "stdout",
          "text": [
            "The sum of even numbers in the list is: 30\n"
          ]
        }
      ]
    },
    {
      "cell_type": "code",
      "source": [
        "#2Create a Python function that accepts a string and returns the reverse of that string.\n"
      ],
      "metadata": {
        "id": "JnKYiA6LQ_An"
      },
      "execution_count": null,
      "outputs": []
    },
    {
      "cell_type": "code",
      "metadata": {
        "colab": {
          "base_uri": "https://localhost:8080/"
        },
        "id": "72ef2d1a",
        "outputId": "90c749f1-6a98-4b3a-c397-3e2c3a7ca0a0"
      },
      "source": [
        "def reverse_string(input_string):\n",
        "  \"\"\"\n",
        "  Reverses a given string.\n",
        "\n",
        "  Args:\n",
        "    input_string: The string to be reversed.\n",
        "\n",
        "  Returns:\n",
        "    The reversed string.\n",
        "  \"\"\"\n",
        "  return input_string[::-1]\n",
        "\n",
        "# Example usage:\n",
        "my_string = \"Hello, World!\"\n",
        "reversed_string = reverse_string(my_string)\n",
        "print(f\"The original string is: {my_string}\")\n",
        "print(f\"The reversed string is: {reversed_string}\")"
      ],
      "execution_count": null,
      "outputs": [
        {
          "output_type": "stream",
          "name": "stdout",
          "text": [
            "The original string is: Hello, World!\n",
            "The reversed string is: !dlroW ,olleH\n"
          ]
        }
      ]
    },
    {
      "cell_type": "code",
      "source": [
        "#3Implement a Python function that takes a list of integers and returns a new list containing the squares of\n",
        "each number."
      ],
      "metadata": {
        "id": "YkPAbLh7RUQO"
      },
      "execution_count": null,
      "outputs": []
    },
    {
      "cell_type": "code",
      "metadata": {
        "colab": {
          "base_uri": "https://localhost:8080/"
        },
        "id": "ad45addb",
        "outputId": "7efda8b1-b963-4992-f632-2e27ae7d14bb"
      },
      "source": [
        "def square_numbers_in_list(numbers_list):\n",
        "  \"\"\"\n",
        "  Squares each number in a list and returns a new list.\n",
        "\n",
        "  Args:\n",
        "    numbers_list: A list of integers.\n",
        "\n",
        "  Returns:\n",
        "    A new list containing the squares of each number.\n",
        "  \"\"\"\n",
        "  squared_numbers = [number ** 2 for number in numbers_list]\n",
        "  return squared_numbers\n",
        "\n",
        "# Example usage:\n",
        "my_list = [1, 2, 3, 4, 5]\n",
        "squared_list = square_numbers_in_list(my_list)\n",
        "print(f\"The original list is: {my_list}\")\n",
        "print(f\"The list with squared numbers is: {squared_list}\")"
      ],
      "execution_count": null,
      "outputs": [
        {
          "output_type": "stream",
          "name": "stdout",
          "text": [
            "The original list is: [1, 2, 3, 4, 5]\n",
            "The list with squared numbers is: [1, 4, 9, 16, 25]\n"
          ]
        }
      ]
    },
    {
      "cell_type": "code",
      "source": [
        "#4Write a Python function that checks if a given number is prime or not from 1 to 200"
      ],
      "metadata": {
        "id": "KIlOjc2ERg1W"
      },
      "execution_count": null,
      "outputs": []
    },
    {
      "cell_type": "code",
      "metadata": {
        "colab": {
          "base_uri": "https://localhost:8080/"
        },
        "id": "9523f8dc",
        "outputId": "150cbb1c-2b37-4100-fea8-55f485636f95"
      },
      "source": [
        "def is_prime(number):\n",
        "  \"\"\"\n",
        "  Checks if a given number is prime within the range of 1 to 200.\n",
        "\n",
        "  Args:\n",
        "    number: An integer.\n",
        "\n",
        "  Returns:\n",
        "    True if the number is prime, False otherwise.\n",
        "  \"\"\"\n",
        "  if number < 2 or number > 200:\n",
        "    return False  # Numbers outside the range are not considered here\n",
        "  for i in range(2, int(number**0.5) + 1):\n",
        "    if number % i == 0:\n",
        "      return False\n",
        "  return True\n",
        "\n",
        "# Example usage:\n",
        "num_to_check = 17\n",
        "if is_prime(num_to_check):\n",
        "  print(f\"{num_to_check} is a prime number.\")\n",
        "else:\n",
        "  print(f\"{num_to_check} is not a prime number.\")\n",
        "\n",
        "num_to_check = 100\n",
        "if is_prime(num_to_check):\n",
        "  print(f\"{num_to_check} is a prime number.\")\n",
        "else:\n",
        "  print(f\"{num_to_check} is not a prime number.\")"
      ],
      "execution_count": null,
      "outputs": [
        {
          "output_type": "stream",
          "name": "stdout",
          "text": [
            "17 is a prime number.\n",
            "100 is not a prime number.\n"
          ]
        }
      ]
    },
    {
      "cell_type": "code",
      "source": [
        "#5 Create an iterator class in Python that generates the Fibonacci sequence up to a specified number of\n",
        "terms."
      ],
      "metadata": {
        "id": "tOvu4JwHR0G6"
      },
      "execution_count": null,
      "outputs": []
    },
    {
      "cell_type": "code",
      "source": [],
      "metadata": {
        "id": "iviEj97rRxv0"
      },
      "execution_count": null,
      "outputs": []
    },
    {
      "cell_type": "code",
      "metadata": {
        "colab": {
          "base_uri": "https://localhost:8080/"
        },
        "id": "f650c501",
        "outputId": "8b8c7cfe-cbba-435d-af75-40fc09690b5a"
      },
      "source": [
        "class FibonacciIterator:\n",
        "  \"\"\"\n",
        "  An iterator class to generate the Fibonacci sequence up to a specified number of terms.\n",
        "  \"\"\"\n",
        "  def __init__(self, num_terms):\n",
        "    self.num_terms = num_terms\n",
        "    self.current_term = 0\n",
        "    self.a = 0\n",
        "    self.b = 1\n",
        "\n",
        "  def __iter__(self):\n",
        "    return self\n",
        "\n",
        "  def __next__(self):\n",
        "    if self.current_term < self.num_terms:\n",
        "      if self.current_term == 0:\n",
        "        self.current_term += 1\n",
        "        return self.a\n",
        "      elif self.current_term == 1:\n",
        "        self.current_term += 1\n",
        "        return self.b\n",
        "      else:\n",
        "        next_fib = self.a + self.b\n",
        "        self.a = self.b\n",
        "        self.b = next_fib\n",
        "        self.current_term += 1\n",
        "        return next_fib\n",
        "    else:\n",
        "      raise StopIteration\n",
        "\n",
        "# Example usage:\n",
        "fib_iterator = FibonacciIterator(10)\n",
        "\n",
        "print(\"Fibonacci sequence:\")\n",
        "for term in fib_iterator:\n",
        "  print(term)"
      ],
      "execution_count": null,
      "outputs": [
        {
          "output_type": "stream",
          "name": "stdout",
          "text": [
            "Fibonacci sequence:\n",
            "0\n",
            "1\n",
            "1\n",
            "2\n",
            "3\n",
            "5\n",
            "8\n",
            "13\n",
            "21\n",
            "34\n"
          ]
        }
      ]
    },
    {
      "cell_type": "code",
      "source": [
        "#6Write a generator function in Python that yields the powers of 2 up to a given exponent.\n"
      ],
      "metadata": {
        "id": "_Wi26zVtSCbc"
      },
      "execution_count": null,
      "outputs": []
    },
    {
      "cell_type": "code",
      "metadata": {
        "colab": {
          "base_uri": "https://localhost:8080/"
        },
        "id": "c1d20de8",
        "outputId": "fe3d95f2-6c85-478f-e64f-9dfed54a5182"
      },
      "source": [
        "def powers_of_two(max_exponent):\n",
        "  \"\"\"\n",
        "  Generates powers of 2 up to a given exponent.\n",
        "\n",
        "  Args:\n",
        "    max_exponent: The maximum exponent (inclusive).\n",
        "\n",
        "  Yields:\n",
        "    The next power of 2.\n",
        "  \"\"\"\n",
        "  for i in range(max_exponent + 1):\n",
        "    yield 2 ** i\n",
        "\n",
        "# Example usage:\n",
        "for power in powers_of_two(5):\n",
        "  print(power)"
      ],
      "execution_count": null,
      "outputs": [
        {
          "output_type": "stream",
          "name": "stdout",
          "text": [
            "1\n",
            "2\n",
            "4\n",
            "8\n",
            "16\n",
            "32\n"
          ]
        }
      ]
    },
    {
      "cell_type": "code",
      "source": [
        "#7Implement a generator function that reads a file line by line and yields each line as a string."
      ],
      "metadata": {
        "id": "Wffb6pFgSaUi"
      },
      "execution_count": null,
      "outputs": []
    },
    {
      "cell_type": "code",
      "metadata": {
        "id": "5529d720"
      },
      "source": [
        "# Create a dummy file for demonstration\n",
        "with open(\"my_file.txt\", \"w\") as f:\n",
        "  f.write(\"This is the first line.\\n\")\n",
        "  f.write(\"This is the second line.\\n\")\n",
        "  f.write(\"And this is the third line.\")"
      ],
      "execution_count": null,
      "outputs": []
    },
    {
      "cell_type": "code",
      "metadata": {
        "colab": {
          "base_uri": "https://localhost:8080/"
        },
        "id": "1f89a212",
        "outputId": "4f5f6278-ec40-489e-a247-5a30d468fc0d"
      },
      "source": [
        "def read_file_line_by_line(file_path):\n",
        "  \"\"\"\n",
        "  A generator function that reads a file line by line and yields each line.\n",
        "\n",
        "  Args:\n",
        "    file_path: The path to the file to read.\n",
        "\n",
        "  Yields:\n",
        "    Each line of the file as a string.\n",
        "  \"\"\"\n",
        "  with open(file_path, 'r') as f:\n",
        "    for line in f:\n",
        "      yield line\n",
        "\n",
        "# Example usage:\n",
        "for line in read_file_line_by_line(\"my_file.txt\"):\n",
        "  print(line, end='') # Use end='' to avoid extra newlines from print"
      ],
      "execution_count": null,
      "outputs": [
        {
          "output_type": "stream",
          "name": "stdout",
          "text": [
            "This is the first line.\n",
            "This is the second line.\n",
            "And this is the third line."
          ]
        }
      ]
    },
    {
      "cell_type": "code",
      "source": [
        "#8Use a lambda function in Python to sort a list of tuples based on the second element of each tuple.\n",
        "\n"
      ],
      "metadata": {
        "id": "XALtRuk2SnXg"
      },
      "execution_count": null,
      "outputs": []
    },
    {
      "cell_type": "code",
      "source": [],
      "metadata": {
        "id": "68aez7L0Sk7C"
      },
      "execution_count": null,
      "outputs": []
    },
    {
      "cell_type": "code",
      "metadata": {
        "colab": {
          "base_uri": "https://localhost:8080/"
        },
        "id": "45d0950f",
        "outputId": "47b89187-f954-4c5c-b516-5a80e24e69af"
      },
      "source": [
        "# List of tuples\n",
        "data = [('apple', 3), ('banana', 1), ('cherry', 2)]\n",
        "\n",
        "# Sort the list of tuples based on the second element using a lambda function\n",
        "sorted_data = sorted(data, key=lambda item: item[1])\n",
        "\n",
        "# Print the original and sorted lists\n",
        "print(f\"Original list: {data}\")\n",
        "print(f\"Sorted list: {sorted_data}\")"
      ],
      "execution_count": null,
      "outputs": [
        {
          "output_type": "stream",
          "name": "stdout",
          "text": [
            "Original list: [('apple', 3), ('banana', 1), ('cherry', 2)]\n",
            "Sorted list: [('banana', 1), ('cherry', 2), ('apple', 3)]\n"
          ]
        }
      ]
    },
    {
      "cell_type": "code",
      "source": [
        "#9Write a Python program that uses `map()` to convert a list of temperatures from Celsius to Fahrenheit."
      ],
      "metadata": {
        "id": "VWzHeMb7Sy10"
      },
      "execution_count": null,
      "outputs": []
    },
    {
      "cell_type": "code",
      "metadata": {
        "colab": {
          "base_uri": "https://localhost:8080/"
        },
        "id": "eb7f350c",
        "outputId": "4824bc74-ece3-4deb-807c-a11b6547c760"
      },
      "source": [
        "def celsius_to_fahrenheit(celsius):\n",
        "  \"\"\"Converts Celsius to Fahrenheit.\"\"\"\n",
        "  return (celsius * 9/5) + 32\n",
        "\n",
        "# List of temperatures in Celsius\n",
        "celsius_temperatures = [0, 10, 25, 37, 100]\n",
        "\n",
        "# Use map() to convert the list to Fahrenheit\n",
        "fahrenheit_temperatures = list(map(celsius_to_fahrenheit, celsius_temperatures))\n",
        "\n",
        "# Print the results\n",
        "print(f\"Celsius temperatures: {celsius_temperatures}\")\n",
        "print(f\"Fahrenheit temperatures: {fahrenheit_temperatures}\")"
      ],
      "execution_count": null,
      "outputs": [
        {
          "output_type": "stream",
          "name": "stdout",
          "text": [
            "Celsius temperatures: [0, 10, 25, 37, 100]\n",
            "Fahrenheit temperatures: [32.0, 50.0, 77.0, 98.6, 212.0]\n"
          ]
        }
      ]
    },
    {
      "cell_type": "code",
      "source": [
        "#10 Create a Python program that uses `filter()` to remove all the vowels from a given string."
      ],
      "metadata": {
        "id": "w-txBp-_S6De"
      },
      "execution_count": null,
      "outputs": []
    },
    {
      "cell_type": "code",
      "metadata": {
        "colab": {
          "base_uri": "https://localhost:8080/"
        },
        "id": "32d5edb4",
        "outputId": "9e60a407-bd0e-4b44-fc34-1bbcb0b7a46c"
      },
      "source": [
        "def is_not_vowel(character):\n",
        "  \"\"\"Checks if a character is not a vowel (case-insensitive).\"\"\"\n",
        "  vowels = \"aeiouAEIOU\"\n",
        "  return character not in vowels\n",
        "\n",
        "# Given string\n",
        "input_string = \"Hello, World!\"\n",
        "\n",
        "# Use filter() to remove vowels\n",
        "filtered_characters = filter(is_not_vowel, input_string)\n",
        "\n",
        "# Join the filtered characters back into a string\n",
        "result_string = \"\".join(filtered_characters)\n",
        "\n",
        "# Print the result\n",
        "print(f\"Original string: {input_string}\")\n",
        "print(f\"String after removing vowels: {result_string}\")"
      ],
      "execution_count": null,
      "outputs": [
        {
          "output_type": "stream",
          "name": "stdout",
          "text": [
            "Original string: Hello, World!\n",
            "String after removing vowels: Hll, Wrld!\n"
          ]
        }
      ]
    }
  ]
}